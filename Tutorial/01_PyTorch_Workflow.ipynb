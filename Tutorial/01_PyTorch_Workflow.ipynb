{
 "cells": [
  {
   "cell_type": "code",
   "execution_count": 1,
   "metadata": {
    "colab": {
     "base_uri": "https://localhost:8080/"
    },
    "id": "WgHBGJoet7n8",
    "outputId": "9a89d303-b1c7-44c1-be95-bb1776e48be6"
   },
   "outputs": [
    {
     "data": {
      "text/plain": [
       "{1: 'data (prepare and load)',\n",
       " 2: 'build model',\n",
       " 3: 'fitting the model to data (training)',\n",
       " 4: 'making predictions and evaluating a model (inference)',\n",
       " 5: 'saving and loading a model',\n",
       " 6: 'putting it all together'}"
      ]
     },
     "execution_count": 1,
     "metadata": {},
     "output_type": "execute_result"
    }
   ],
   "source": [
    "# PyTorch Workflow\n",
    "\n",
    "## Lets explore a an example PyTorch end-to-end workflow.\n",
    "\n",
    "\n",
    "what_were_covering = {1: \"data (prepare and load)\",\n",
    "                      2: \"build model\",\n",
    "                      3: \"fitting the model to data (training)\",\n",
    "                      4: \"making predictions and evaluating a model (inference)\",\n",
    "                      5: \"saving and loading a model\",\n",
    "                      6: \"putting it all together\"}\n",
    "\n",
    "what_were_covering"
   ]
  },
  {
   "cell_type": "code",
   "execution_count": 2,
   "metadata": {
    "colab": {
     "base_uri": "https://localhost:8080/",
     "height": 35
    },
    "id": "ullPOVyPPw14",
    "outputId": "90fcccda-d782-42e7-fde4-e8dd5893fbc3"
   },
   "outputs": [
    {
     "data": {
      "text/plain": [
       "'2.7.1+cu126'"
      ]
     },
     "execution_count": 2,
     "metadata": {},
     "output_type": "execute_result"
    }
   ],
   "source": [
    "import torch\n",
    "from torch import nn # nn contains all of pytorch's  building blocks for neural networks\n",
    "import matplotlib.pyplot as plt\n",
    "\n",
    "# Check PyTorch version\n",
    "torch.__version__"
   ]
  },
  {
   "cell_type": "markdown",
   "metadata": {
    "id": "ChWL3gHx04Ai"
   },
   "source": [
    "# 1. Data (preparing and loading)\n",
    "\n",
    "Data can be almost anything.... in machine learning.\n",
    "\n",
    "* Excel spreadsheet\n",
    "* Images of any kind\n",
    "* Videos (Youtube has lots of data....)\n",
    "* Audio like songs or podcasts\n",
    "* DNA\n",
    "* Text\n",
    "\n",
    "Machine learning is a game of two parts:\n",
    "1. Get data into a numerical representation.\n",
    "2. Build a model to learn patterns in that numerical representation.\n",
    "\n",
    "To showcase this, let's create some *known* data using the linear regression formula.\n",
    "\n",
    "We'll use a linear regression formula to make a straight line with known parameters.\n",
    "\n"
   ]
  },
  {
   "cell_type": "code",
   "execution_count": 3,
   "metadata": {
    "colab": {
     "base_uri": "https://localhost:8080/"
    },
    "id": "IPO6PVzH26ST",
    "outputId": "40afc25b-ea05-4cc8-e939-71d333394014"
   },
   "outputs": [
    {
     "data": {
      "text/plain": [
       "(tensor([[0.0000],\n",
       "         [0.0200],\n",
       "         [0.0400],\n",
       "         [0.0600],\n",
       "         [0.0800],\n",
       "         [0.1000],\n",
       "         [0.1200],\n",
       "         [0.1400],\n",
       "         [0.1600],\n",
       "         [0.1800]]),\n",
       " tensor([[0.3000],\n",
       "         [0.3140],\n",
       "         [0.3280],\n",
       "         [0.3420],\n",
       "         [0.3560],\n",
       "         [0.3700],\n",
       "         [0.3840],\n",
       "         [0.3980],\n",
       "         [0.4120],\n",
       "         [0.4260]]))"
      ]
     },
     "execution_count": 3,
     "metadata": {},
     "output_type": "execute_result"
    }
   ],
   "source": [
    "#  Create *known* parameters\n",
    "weight = 0.7\n",
    "bias = 0.3\n",
    "\n",
    "# Create\n",
    "start = 0\n",
    "end = 1\n",
    "step = 0.02\n",
    "X = torch.arange(start, end, step).unsqueeze(dim=1)\n",
    "y = weight * X + bias\n",
    "\n",
    "X[:10], y[:10],"
   ]
  },
  {
   "cell_type": "code",
   "execution_count": 4,
   "metadata": {
    "colab": {
     "base_uri": "https://localhost:8080/"
    },
    "id": "et_93ELP31z1",
    "outputId": "bea98339-8875-42e9-87c7-32afe7d926e1"
   },
   "outputs": [
    {
     "data": {
      "text/plain": [
       "(50, 50)"
      ]
     },
     "execution_count": 4,
     "metadata": {},
     "output_type": "execute_result"
    }
   ],
   "source": [
    "len(X), len(y)"
   ]
  },
  {
   "cell_type": "markdown",
   "metadata": {
    "id": "xhALIqiAAnTE"
   },
   "source": [
    "### Splitting data into training and test sets (one of the most important concept in machine learning in general)\n",
    "\n",
    "Let's create a training and test set with our data."
   ]
  },
  {
   "cell_type": "code",
   "execution_count": 5,
   "metadata": {
    "colab": {
     "base_uri": "https://localhost:8080/"
    },
    "id": "XHN7zIP1A8NN",
    "outputId": "568b5654-8970-4768-f250-6f9366a707e6"
   },
   "outputs": [
    {
     "data": {
      "text/plain": [
       "(40, 40, 10, 10)"
      ]
     },
     "execution_count": 5,
     "metadata": {},
     "output_type": "execute_result"
    }
   ],
   "source": [
    "# Create a train/test split\n",
    "train_split = int(0.8 * len(X))\n",
    "X_train, y_train = X[:train_split], y[:train_split]\n",
    "X_test, y_test = X[train_split:], y[train_split:]\n",
    "\n",
    "len(X_train), len(y_train), len(X_test), len(y_test)"
   ]
  },
  {
   "cell_type": "markdown",
   "metadata": {
    "id": "DlvocNuZE2pB"
   },
   "source": [
    "How might we better visualize our data?\n",
    "This is where the data explorer's motto comes in!\n",
    "\n",
    "\"Visualize, visualize, visualize!\""
   ]
  },
  {
   "cell_type": "code",
   "execution_count": 6,
   "metadata": {
    "id": "en-jZ4qaFVXO"
   },
   "outputs": [],
   "source": [
    "def plot_predictions(train_data=X_train,\n",
    "                     train_labels=y_train,\n",
    "                     test_data=X_test,\n",
    "                     test_labels=y_test,\n",
    "                     predictions=None):\n",
    "  \"\"\"\n",
    "  Plots training data, test data and compares predictions.\n",
    "  \"\"\"\n",
    "  plt.figure(figsize=(10, 7))\n",
    "\n",
    "  # Plot training data in blue\n",
    "  plt.scatter(train_data, train_labels, c=\"b\", s=4, label=\"Training data\")\n",
    "\n",
    "  # Plot test data in green\n",
    "  plt.scatter(test_data, test_labels, c=\"g\", s=4, label=\"Testing data\")\n",
    "\n",
    "  # Are there predictions?\n",
    "  if predictions is not None:\n",
    "    # Plot the predictions if they exist\n",
    "    plt.scatter(test_data, predictions, c=\"r\", s=4, label=\"Predictions\" )\n",
    "\n",
    "  # Show the legend\n",
    "  plt.legend(prop={\"size\": 14})\n",
    "\n"
   ]
  },
  {
   "cell_type": "code",
   "execution_count": 7,
   "metadata": {
    "colab": {
     "base_uri": "https://localhost:8080/",
     "height": 559
    },
    "id": "2C6y-IuhHQkq",
    "outputId": "37da2cb6-e534-407c-e353-16e860dddf74"
   },
   "outputs": [
    {
     "data": {
      "image/png": "[encoded data removed]",
      "text/plain": [
       "<Figure size 720x504 with 1 Axes>"
      ]
     },
     "metadata": {
      "needs_background": "light"
     },
     "output_type": "display_data"
    }
   ],
   "source": [
    "plot_predictions();"
   ]
  },
  {
   "cell_type": "markdown",
   "metadata": {
    "id": "bR4TXi9uPcj4"
   },
   "source": [
    "## 2. Build model\n",
    "\n",
    "Our first PyTorch model!\n",
    "\n",
    "This is very exciting..lets do it.\n",
    "\n",
    "Because we're going to be building classes throughout the course, I'd recommend getting familiar with OOP in Python, to do so you can use the following resources from Real Python:\n",
    "\n",
    "What our model does:\n",
    "\n",
    "* Start with random values (weight & bias)\n",
    "* Look at training data and adjust the random values to  better represent (or get closer to) the ideal values (the weight and bias values we used to create the data)\n",
    "\n",
    "How dos it do so ?\n",
    "\n",
    "1. Gradient descent\n",
    "2. Backpropagation"
   ]
  },
  {
   "cell_type": "code",
   "execution_count": 8,
   "metadata": {
    "id": "HwR61UK1O02R"
   },
   "outputs": [],
   "source": [
    "# Create linear regression model class\n",
    "class LinearRegressionModel(nn.Module):  # <- almost everything in PyTorch inherits from nn.Module\n",
    "  def __init__(self):\n",
    "    super().__init__()\n",
    "    self.weights = nn.Parameter(torch.randn(1,\n",
    "                                           requires_grad=True,\n",
    "                                           dtype=torch.float))\n",
    "    self.bias = nn.Parameter(torch.randn(1,\n",
    "                                         requires_grad=True,\n",
    "                                         dtype=torch.float))\n",
    "\n",
    "  # Forward method to define the computation in the model\n",
    "  def forward(self, x: torch.Tensor) -> torch.Tensor: # <- \"x\" is the input data\n",
    "      return self.weights * x + self.bias # this is the linear regression formula\n",
    "\n"
   ]
  },
  {
   "cell_type": "markdown",
   "metadata": {
    "id": "PvbBznJ0ZCua"
   },
   "source": [
    "### PyTorch model building essentials\n",
    "\n",
    "* torch.nn - contains all of the buildings for computational graphs (a neural network can be considered a computational graph)\n",
    "* torch.nn.parameter - what parameters should our model try and learn, often a PyTorch layer from torch.nn will set these for us\n",
    "* torch.nn.module - The base class for all neural network modules, if you subclass it, you should overwrite forward()\n",
    "* torch.optim - this where the optimizers in PyTorch live, they will help with gradient descent\n",
    "* def forward() - All nn.module subclasses require you to overwrite forward(), this method defines what happens in the forward computation"
   ]
  },
  {
   "cell_type": "code",
   "execution_count": 9,
   "metadata": {
    "colab": {
     "base_uri": "https://localhost:8080/"
    },
    "id": "Hth2zBwZdfVK",
    "outputId": "92c064ab-bbd7-49b4-a441-51ca1896c3e9"
   },
   "outputs": [
    {
     "data": {
      "text/plain": [
       "tensor([0.3367])"
      ]
     },
     "execution_count": 9,
     "metadata": {},
     "output_type": "execute_result"
    }
   ],
   "source": [
    "torch.manual_seed(42)\n",
    "torch.randn(1)\n"
   ]
  },
  {
   "cell_type": "markdown",
   "metadata": {
    "id": "IYYMfM3Kcqbl"
   },
   "source": [
    "### Checking the contents of our PyTorch model\n",
    "\n",
    "Now we've created a model, let's see what's inside....\n",
    "\n",
    "So we can check our model parameters or what's inside our model using .parameters().\n"
   ]
  },
  {
   "cell_type": "code",
   "execution_count": 10,
   "metadata": {
    "colab": {
     "base_uri": "https://localhost:8080/"
    },
    "id": "nBSHDHpsdBY8",
    "outputId": "ac12144c-4234-4367-a320-16ece10362a6"
   },
   "outputs": [
    {
     "data": {
      "text/plain": [
       "[Parameter containing:\n",
       " tensor([0.3367], requires_grad=True),\n",
       " Parameter containing:\n",
       " tensor([0.1288], requires_grad=True)]"
      ]
     },
     "execution_count": 10,
     "metadata": {},
     "output_type": "execute_result"
    }
   ],
   "source": [
    "# Create a random seed\n",
    "\n",
    "torch.manual_seed(42)\n",
    "\n",
    "# Create an instance if the model (this is a subclass of nn.module)\n",
    "model_0 = LinearRegressionModel()\n",
    "\n",
    "# Check the state of the model\n",
    "list(model_0.parameters())"
   ]
  },
  {
   "cell_type": "code",
   "execution_count": 11,
   "metadata": {
    "colab": {
     "base_uri": "https://localhost:8080/"
    },
    "id": "_AUbAlcbeGFt",
    "outputId": "0a8bba1a-2d5c-4ad5-aaf6-740ea92948fe"
   },
   "outputs": [
    {
     "data": {
      "text/plain": [
       "OrderedDict([('weights', tensor([0.3367])), ('bias', tensor([0.1288]))])"
      ]
     },
     "execution_count": 11,
     "metadata": {},
     "output_type": "execute_result"
    }
   ],
   "source": [
    "# List name parameters\n",
    "model_0.state_dict()"
   ]
  },
  {
   "cell_type": "markdown",
   "metadata": {
    "id": "5k1TWp16fG22"
   },
   "source": [
    "### Making prediction using torch.inference_mode()\n",
    "\n",
    "To check our model's predictive power, lets see how well it predicts y_test based on x_test.\n",
    "\n",
    "When we pass data through our model, it's going to run it through the forward() method."
   ]
  },
  {
   "cell_type": "code",
   "execution_count": 12,
   "metadata": {
    "colab": {
     "base_uri": "https://localhost:8080/"
    },
    "id": "RxOWKsJagtGt",
    "outputId": "9d818f0e-89ee-4fc7-d2f3-1786362792a2"
   },
   "outputs": [
    {
     "data": {
      "text/plain": [
       "tensor([[0.3982],\n",
       "        [0.4049],\n",
       "        [0.4116],\n",
       "        [0.4184],\n",
       "        [0.4251],\n",
       "        [0.4318],\n",
       "        [0.4386],\n",
       "        [0.4453],\n",
       "        [0.4520],\n",
       "        [0.4588]], grad_fn=<AddBackward0>)"
      ]
     },
     "execution_count": 12,
     "metadata": {},
     "output_type": "execute_result"
    }
   ],
   "source": [
    "y_preds = model_0(X_test)\n",
    "y_preds"
   ]
  },
  {
   "cell_type": "code",
   "execution_count": 13,
   "metadata": {
    "colab": {
     "base_uri": "https://localhost:8080/"
    },
    "id": "zTZKTFVGfeGo",
    "outputId": "83fc669c-ae43-49d6-8361-15a48887bc65"
   },
   "outputs": [
    {
     "data": {
      "text/plain": [
       "tensor([[0.3982],\n",
       "        [0.4049],\n",
       "        [0.4116],\n",
       "        [0.4184],\n",
       "        [0.4251],\n",
       "        [0.4318],\n",
       "        [0.4386],\n",
       "        [0.4453],\n",
       "        [0.4520],\n",
       "        [0.4588]])"
      ]
     },
     "execution_count": 13,
     "metadata": {},
     "output_type": "execute_result"
    }
   ],
   "source": [
    "# Make Predictions with model\n",
    "with torch.inference_mode():\n",
    "  y_preds = model_0(X_test)\n",
    "\n",
    "# You can also do something similar with torch.no_grad, however, torch.inference_mode() is preferred\n",
    "#with torch.no_grad():\n",
    "#  y_preds = model_0(X_test)\n",
    "y_preds"
   ]
  },
  {
   "cell_type": "code",
   "execution_count": 14,
   "metadata": {
    "colab": {
     "base_uri": "https://localhost:8080/"
    },
    "id": "vP1GrrjIgRSJ",
    "outputId": "659947ea-4003-4296-d7ac-de5fd81fdc38"
   },
   "outputs": [
    {
     "data": {
      "text/plain": [
       "tensor([[0.8600],\n",
       "        [0.8740],\n",
       "        [0.8880],\n",
       "        [0.9020],\n",
       "        [0.9160],\n",
       "        [0.9300],\n",
       "        [0.9440],\n",
       "        [0.9580],\n",
       "        [0.9720],\n",
       "        [0.9860]])"
      ]
     },
     "execution_count": 14,
     "metadata": {},
     "output_type": "execute_result"
    }
   ],
   "source": [
    "y_test"
   ]
  },
  {
   "cell_type": "code",
   "execution_count": 15,
   "metadata": {
    "colab": {
     "base_uri": "https://localhost:8080/",
     "height": 559
    },
    "id": "dHINn31TgVMv",
    "outputId": "d4613b0a-217e-4039-bb8d-1056cf573943"
   },
   "outputs": [
    {
     "data": {
      "image/png": "[encoded data removed]",
      "text/plain": [
       "<Figure size 720x504 with 1 Axes>"
      ]
     },
     "metadata": {
      "needs_background": "light"
     },
     "output_type": "display_data"
    }
   ],
   "source": [
    "plot_predictions(predictions=y_preds)"
   ]
  },
  {
   "cell_type": "markdown",
   "metadata": {
    "id": "UG6OryOfZaQ5"
   },
   "source": [
    "## 3. Train model\n",
    "\n",
    "The whole idea of training is for a model to move from some unknown parameters(these may be random) to some known parameters.\n",
    "\n",
    "Or in other words from a poor representation of the data to a better representation of the data.\n",
    "\n",
    "One way to measure how poor or how wrong your models predictions are is to use a loss function.\n",
    "\n",
    "* Note: Loss function may also be called cost function or criterion in different areas. For our case, we're going to refer to it as a loss function.\n",
    "\n",
    "Things we need to train:\n",
    "\n",
    "* **Loss function:** A function to measure how wrong your model's predictions are to the ideal outputs, lower is better.\n",
    "\n",
    "* **Optimizer:** Takes into account the loss of a model and adjusts the model's parameters(e.g. weight & bias) in our case to improve the loss function.\n",
    "  * Inside the optimizer you'll often have to set two parameters:\n",
    "    * params - the model parameters you'd like to optimize, for example params=model_0.parameters()\n",
    "    * lr (learning rate)- the learning rate is a hyperparameter that defines how big/small the optimizer changes the parameters with each steP(a small lr results in small changes, a large lr results in large changes)\n",
    "\n",
    "And specifically for PyTorch, we need:\n",
    "* A training loop\n",
    "* A testing loop\n"
   ]
  },
  {
   "cell_type": "code",
   "execution_count": 16,
   "metadata": {
    "colab": {
     "base_uri": "https://localhost:8080/"
    },
    "id": "LO_LG6EMbTPp",
    "outputId": "4a520fdb-48bc-47e4-ce3c-07fea883bb4f"
   },
   "outputs": [
    {
     "data": {
      "text/plain": [
       "[Parameter containing:\n",
       " tensor([0.3367], requires_grad=True),\n",
       " Parameter containing:\n",
       " tensor([0.1288], requires_grad=True)]"
      ]
     },
     "execution_count": 16,
     "metadata": {},
     "output_type": "execute_result"
    }
   ],
   "source": [
    "list(model_0.parameters())"
   ]
  },
  {
   "cell_type": "code",
   "execution_count": 17,
   "metadata": {
    "colab": {
     "base_uri": "https://localhost:8080/"
    },
    "id": "UvXr41eebjHN",
    "outputId": "5c54edbb-f6ac-459f-e9a9-5a2448b103fa"
   },
   "outputs": [
    {
     "data": {
      "text/plain": [
       "OrderedDict([('weights', tensor([0.3367])), ('bias', tensor([0.1288]))])"
      ]
     },
     "execution_count": 17,
     "metadata": {},
     "output_type": "execute_result"
    }
   ],
   "source": [
    "# Check out our model's parameters (a parameter is a value that the model sets itself)\n",
    "model_0.state_dict()\n"
   ]
  },
  {
   "cell_type": "code",
   "execution_count": 18,
   "metadata": {
    "id": "s8ZzN5krhsiM"
   },
   "outputs": [],
   "source": [
    "# Setup a loss function\n",
    "loss_fn = nn.L1Loss() # MAE(Mean absolute error) loss is same as L1Loss\n",
    "\n",
    "# Setup an optimizer (stochastic gradient descent)\n",
    "optimizer = torch.optim.SGD(params=model_0.parameters(),\n",
    "                            lr=0.01) # lr = learning rate = possibly the most important hyperparameter you can set"
   ]
  },
  {
   "cell_type": "markdown",
   "metadata": {
    "id": "m_H22JmBkp2z"
   },
   "source": [
    "Q: Which loss function and optimizer should i use?\n",
    "A: This will be problem specific. But with experience, you'll get an idea of what works and what doesn't with your particular problem set.\n",
    "\n",
    "For example, for a regression problem(like ours), a loss function of nn.L1Loss( ) and an optimizer like torch.optim.SDG( ) will suffice.\n",
    "\n",
    "But for a classification problem like classifying whether a photo is of dog or a cat, you'll likely want to use a loss function of nn.BCELoss( ) (binary cross entropy loss)."
   ]
  },
  {
   "cell_type": "markdown",
   "metadata": {
    "id": "ZBeS31w2qcQp"
   },
   "source": [
    "### Building a training loop(and a testing loop) in PyTorch\n",
    "\n",
    "A couple of things we need in a training loop:\n",
    "0. Loop through the data\n",
    "1. Forward pass (this involves data moving through our model's forward() functions) to make predictions on data - also called forward propagation\n",
    "2. Calculate the loss (compare forward pass predictions to ground truth labels)\n",
    "3. Optimizer zero grad\n",
    "4. Loss backward - move backwards through the network to calculate the gradients of each of the parameters of our model with respect to the loss\n",
    "5. Optimizer step - use the optimizer to adjust our model's parameters to try and improve the loss (**gradient descent**)"
   ]
  },
  {
   "cell_type": "code",
   "execution_count": 19,
   "metadata": {
    "colab": {
     "base_uri": "https://localhost:8080/"
    },
    "id": "mHV8IdQ47WQ2",
    "outputId": "f623efaa-6a40-440e-875d-64fe6c5bf682"
   },
   "outputs": [
    {
     "data": {
      "text/plain": [
       "[Parameter containing:\n",
       " tensor([0.3367], requires_grad=True),\n",
       " Parameter containing:\n",
       " tensor([0.1288], requires_grad=True)]"
      ]
     },
     "execution_count": 19,
     "metadata": {},
     "output_type": "execute_result"
    }
   ],
   "source": [
    "list(model_0.parameters())"
   ]
  },
  {
   "cell_type": "code",
   "execution_count": 20,
   "metadata": {
    "colab": {
     "base_uri": "https://localhost:8080/"
    },
    "id": "Wp3wqCeC67HU",
    "outputId": "8e64dcd0-0f01-47fc-d038-316746ac87cd"
   },
   "outputs": [
    {
     "name": "stdout",
     "output_type": "stream",
     "text": [
      "Loss: 0.31288138031959534\n",
      "Epoch: 0 | Loss: 0.31288138031959534 | Test loss: 0.48106518387794495\n",
      "OrderedDict([('weights', tensor([0.3406])), ('bias', tensor([0.1388]))])\n",
      "Loss: 0.3013603389263153\n",
      "OrderedDict([('weights', tensor([0.3445])), ('bias', tensor([0.1488]))])\n",
      "Loss: 0.28983935713768005\n",
      "OrderedDict([('weights', tensor([0.3484])), ('bias', tensor([0.1588]))])\n",
      "Loss: 0.2783183455467224\n",
      "OrderedDict([('weights', tensor([0.3523])), ('bias', tensor([0.1688]))])\n",
      "Loss: 0.26679736375808716\n",
      "OrderedDict([('weights', tensor([0.3562])), ('bias', tensor([0.1788]))])\n",
      "Loss: 0.2552763521671295\n",
      "OrderedDict([('weights', tensor([0.3601])), ('bias', tensor([0.1888]))])\n",
      "Loss: 0.24375534057617188\n",
      "OrderedDict([('weights', tensor([0.3640])), ('bias', tensor([0.1988]))])\n",
      "Loss: 0.23223432898521423\n",
      "OrderedDict([('weights', tensor([0.3679])), ('bias', tensor([0.2088]))])\n",
      "Loss: 0.22071333229541779\n",
      "OrderedDict([('weights', tensor([0.3718])), ('bias', tensor([0.2188]))])\n",
      "Loss: 0.20919232070446014\n",
      "OrderedDict([('weights', tensor([0.3757])), ('bias', tensor([0.2288]))])\n",
      "Loss: 0.1976713240146637\n",
      "Epoch: 10 | Loss: 0.1976713240146637 | Test loss: 0.3463551998138428\n",
      "OrderedDict([('weights', tensor([0.3796])), ('bias', tensor([0.2388]))])\n",
      "Loss: 0.18615034222602844\n",
      "OrderedDict([('weights', tensor([0.3835])), ('bias', tensor([0.2488]))])\n",
      "Loss: 0.1746293306350708\n",
      "OrderedDict([('weights', tensor([0.3874])), ('bias', tensor([0.2588]))])\n",
      "Loss: 0.16310831904411316\n",
      "OrderedDict([('weights', tensor([0.3913])), ('bias', tensor([0.2688]))])\n",
      "Loss: 0.1515873372554779\n",
      "OrderedDict([('weights', tensor([0.3952])), ('bias', tensor([0.2788]))])\n",
      "Loss: 0.14006635546684265\n",
      "OrderedDict([('weights', tensor([0.3991])), ('bias', tensor([0.2888]))])\n",
      "Loss: 0.1285453587770462\n",
      "OrderedDict([('weights', tensor([0.4030])), ('bias', tensor([0.2988]))])\n",
      "Loss: 0.11702437698841095\n",
      "OrderedDict([('weights', tensor([0.4069])), ('bias', tensor([0.3088]))])\n",
      "Loss: 0.1060912236571312\n",
      "OrderedDict([('weights', tensor([0.4108])), ('bias', tensor([0.3178]))])\n",
      "Loss: 0.09681284427642822\n",
      "OrderedDict([('weights', tensor([0.4146])), ('bias', tensor([0.3258]))])\n",
      "Loss: 0.08908725529909134\n",
      "Epoch: 20 | Loss: 0.08908725529909134 | Test loss: 0.21729660034179688\n",
      "OrderedDict([('weights', tensor([0.4184])), ('bias', tensor([0.3333]))])\n",
      "Loss: 0.08227583020925522\n",
      "OrderedDict([('weights', tensor([0.4222])), ('bias', tensor([0.3403]))])\n",
      "Loss: 0.07638873159885406\n",
      "OrderedDict([('weights', tensor([0.4258])), ('bias', tensor([0.3463]))])\n",
      "Loss: 0.07160007208585739\n",
      "OrderedDict([('weights', tensor([0.4293])), ('bias', tensor([0.3518]))])\n",
      "Loss: 0.06747635453939438\n",
      "OrderedDict([('weights', tensor([0.4328])), ('bias', tensor([0.3568]))])\n",
      "Loss: 0.06395438313484192\n",
      "OrderedDict([('weights', tensor([0.4361])), ('bias', tensor([0.3613]))])\n",
      "Loss: 0.06097004935145378\n",
      "OrderedDict([('weights', tensor([0.4394])), ('bias', tensor([0.3653]))])\n",
      "Loss: 0.05845819041132927\n",
      "OrderedDict([('weights', tensor([0.4425])), ('bias', tensor([0.3688]))])\n",
      "Loss: 0.05635259300470352\n",
      "OrderedDict([('weights', tensor([0.4455])), ('bias', tensor([0.3718]))])\n",
      "Loss: 0.0545857772231102\n",
      "OrderedDict([('weights', tensor([0.4483])), ('bias', tensor([0.3743]))])\n",
      "Loss: 0.053148526698350906\n",
      "Epoch: 30 | Loss: 0.053148526698350906 | Test loss: 0.14464017748832703\n",
      "OrderedDict([('weights', tensor([0.4512])), ('bias', tensor([0.3768]))])\n",
      "Loss: 0.05181945487856865\n",
      "OrderedDict([('weights', tensor([0.4539])), ('bias', tensor([0.3788]))])\n",
      "Loss: 0.05069301277399063\n",
      "OrderedDict([('weights', tensor([0.4564])), ('bias', tensor([0.3803]))])\n",
      "Loss: 0.0498228520154953\n",
      "OrderedDict([('weights', tensor([0.4590])), ('bias', tensor([0.3818]))])\n",
      "Loss: 0.04895269125699997\n",
      "OrderedDict([('weights', tensor([0.4615])), ('bias', tensor([0.3833]))])\n",
      "Loss: 0.04819351062178612\n",
      "OrderedDict([('weights', tensor([0.4639])), ('bias', tensor([0.3843]))])\n",
      "Loss: 0.047531817108392715\n",
      "OrderedDict([('weights', tensor([0.4662])), ('bias', tensor([0.3853]))])\n",
      "Loss: 0.04692792519927025\n",
      "OrderedDict([('weights', tensor([0.4684])), ('bias', tensor([0.3858]))])\n",
      "Loss: 0.04642331600189209\n",
      "OrderedDict([('weights', tensor([0.4706])), ('bias', tensor([0.3863]))])\n",
      "Loss: 0.04591871052980423\n",
      "OrderedDict([('weights', tensor([0.4728])), ('bias', tensor([0.3868]))])\n",
      "Loss: 0.04543796554207802\n",
      "Epoch: 40 | Loss: 0.04543796554207802 | Test loss: 0.11360953003168106\n",
      "OrderedDict([('weights', tensor([0.4748])), ('bias', tensor([0.3868]))])\n",
      "Loss: 0.04503796249628067\n",
      "OrderedDict([('weights', tensor([0.4768])), ('bias', tensor([0.3868]))])\n",
      "Loss: 0.04463795945048332\n",
      "OrderedDict([('weights', tensor([0.4788])), ('bias', tensor([0.3868]))])\n",
      "Loss: 0.04423796385526657\n",
      "OrderedDict([('weights', tensor([0.4808])), ('bias', tensor([0.3868]))])\n",
      "Loss: 0.04383796453475952\n",
      "OrderedDict([('weights', tensor([0.4828])), ('bias', tensor([0.3868]))])\n",
      "Loss: 0.04343796148896217\n",
      "OrderedDict([('weights', tensor([0.4848])), ('bias', tensor([0.3868]))])\n",
      "Loss: 0.043074630200862885\n",
      "OrderedDict([('weights', tensor([0.4866])), ('bias', tensor([0.3863]))])\n",
      "Loss: 0.04272563382983208\n",
      "OrderedDict([('weights', tensor([0.4884])), ('bias', tensor([0.3858]))])\n",
      "Loss: 0.04237663000822067\n",
      "OrderedDict([('weights', tensor([0.4902])), ('bias', tensor([0.3853]))])\n",
      "Loss: 0.04202762991189957\n",
      "OrderedDict([('weights', tensor([0.4920])), ('bias', tensor([0.3848]))])\n",
      "Loss: 0.04167863354086876\n",
      "Epoch: 50 | Loss: 0.04167863354086876 | Test loss: 0.09919948130846024\n",
      "OrderedDict([('weights', tensor([0.4938])), ('bias', tensor([0.3843]))])\n",
      "Loss: 0.04132963344454765\n",
      "OrderedDict([('weights', tensor([0.4956])), ('bias', tensor([0.3838]))])\n",
      "Loss: 0.04098063334822655\n",
      "OrderedDict([('weights', tensor([0.4974])), ('bias', tensor([0.3833]))])\n",
      "Loss: 0.04063162952661514\n",
      "OrderedDict([('weights', tensor([0.4992])), ('bias', tensor([0.3828]))])\n",
      "Loss: 0.040282636880874634\n",
      "OrderedDict([('weights', tensor([0.5010])), ('bias', tensor([0.3823]))])\n",
      "Loss: 0.039933640509843826\n",
      "OrderedDict([('weights', tensor([0.5028])), ('bias', tensor([0.3818]))])\n",
      "Loss: 0.03958464413881302\n",
      "OrderedDict([('weights', tensor([0.5046])), ('bias', tensor([0.3813]))])\n",
      "Loss: 0.03923564404249191\n",
      "OrderedDict([('weights', tensor([0.5064])), ('bias', tensor([0.3808]))])\n",
      "Loss: 0.03888664394617081\n",
      "OrderedDict([('weights', tensor([0.5082])), ('bias', tensor([0.3803]))])\n",
      "Loss: 0.0385376438498497\n",
      "OrderedDict([('weights', tensor([0.5100])), ('bias', tensor([0.3798]))])\n",
      "Loss: 0.03818932920694351\n",
      "Epoch: 60 | Loss: 0.03818932920694351 | Test loss: 0.08886633068323135\n",
      "OrderedDict([('weights', tensor([0.5116])), ('bias', tensor([0.3788]))])\n",
      "Loss: 0.03785243630409241\n",
      "OrderedDict([('weights', tensor([0.5134])), ('bias', tensor([0.3783]))])\n",
      "Loss: 0.0375034399330616\n",
      "OrderedDict([('weights', tensor([0.5152])), ('bias', tensor([0.3778]))])\n",
      "Loss: 0.037164121866226196\n",
      "OrderedDict([('weights', tensor([0.5168])), ('bias', tensor([0.3768]))])\n",
      "Loss: 0.03681822493672371\n",
      "OrderedDict([('weights', tensor([0.5186])), ('bias', tensor([0.3763]))])\n",
      "Loss: 0.03647511452436447\n",
      "OrderedDict([('weights', tensor([0.5202])), ('bias', tensor([0.3753]))])\n",
      "Loss: 0.03613303601741791\n",
      "OrderedDict([('weights', tensor([0.5220])), ('bias', tensor([0.3748]))])\n",
      "Loss: 0.03578609973192215\n",
      "OrderedDict([('weights', tensor([0.5236])), ('bias', tensor([0.3738]))])\n",
      "Loss: 0.03544783592224121\n",
      "OrderedDict([('weights', tensor([0.5254])), ('bias', tensor([0.3733]))])\n",
      "Loss: 0.035098835825920105\n",
      "OrderedDict([('weights', tensor([0.5272])), ('bias', tensor([0.3728]))])\n",
      "Loss: 0.03476089984178543\n",
      "Epoch: 70 | Loss: 0.03476089984178543 | Test loss: 0.0805937647819519\n",
      "OrderedDict([('weights', tensor([0.5288])), ('bias', tensor([0.3718]))])\n",
      "Loss: 0.03441363573074341\n",
      "OrderedDict([('weights', tensor([0.5306])), ('bias', tensor([0.3713]))])\n",
      "Loss: 0.03407188132405281\n",
      "OrderedDict([('weights', tensor([0.5322])), ('bias', tensor([0.3703]))])\n",
      "Loss: 0.03372843936085701\n",
      "OrderedDict([('weights', tensor([0.5340])), ('bias', tensor([0.3698]))])\n",
      "Loss: 0.03338287025690079\n",
      "OrderedDict([('weights', tensor([0.5355])), ('bias', tensor([0.3688]))])\n",
      "Loss: 0.033043231815099716\n",
      "OrderedDict([('weights', tensor([0.5373])), ('bias', tensor([0.3683]))])\n",
      "Loss: 0.03269423171877861\n",
      "OrderedDict([('weights', tensor([0.5391])), ('bias', tensor([0.3678]))])\n",
      "Loss: 0.032357655465602875\n",
      "OrderedDict([('weights', tensor([0.5407])), ('bias', tensor([0.3668]))])\n",
      "Loss: 0.03200903534889221\n",
      "OrderedDict([('weights', tensor([0.5425])), ('bias', tensor([0.3663]))])\n",
      "Loss: 0.03166864812374115\n",
      "OrderedDict([('weights', tensor([0.5441])), ('bias', tensor([0.3653]))])\n",
      "Loss: 0.03132382780313492\n",
      "Epoch: 80 | Loss: 0.03132382780313492 | Test loss: 0.07232122868299484\n",
      "OrderedDict([('weights', tensor([0.5459])), ('bias', tensor([0.3648]))])\n",
      "Loss: 0.030979642644524574\n",
      "OrderedDict([('weights', tensor([0.5475])), ('bias', tensor([0.3638]))])\n",
      "Loss: 0.030638623982667923\n",
      "OrderedDict([('weights', tensor([0.5493])), ('bias', tensor([0.3633]))])\n",
      "Loss: 0.0302906334400177\n",
      "OrderedDict([('weights', tensor([0.5509])), ('bias', tensor([0.3623]))])\n",
      "Loss: 0.029953425750136375\n",
      "OrderedDict([('weights', tensor([0.5527])), ('bias', tensor([0.3618]))])\n",
      "Loss: 0.02960442565381527\n",
      "OrderedDict([('weights', tensor([0.5545])), ('bias', tensor([0.3613]))])\n",
      "Loss: 0.029265418648719788\n",
      "OrderedDict([('weights', tensor([0.5561])), ('bias', tensor([0.3603]))])\n",
      "Loss: 0.028919223695993423\n",
      "OrderedDict([('weights', tensor([0.5579])), ('bias', tensor([0.3598]))])\n",
      "Loss: 0.028576409444212914\n",
      "OrderedDict([('weights', tensor([0.5595])), ('bias', tensor([0.3588]))])\n",
      "Loss: 0.028234025463461876\n",
      "OrderedDict([('weights', tensor([0.5613])), ('bias', tensor([0.3583]))])\n",
      "Loss: 0.02788739837706089\n",
      "Epoch: 90 | Loss: 0.02788739837706089 | Test loss: 0.06473556160926819\n",
      "OrderedDict([('weights', tensor([0.5629])), ('bias', tensor([0.3573]))])\n",
      "Loss: 0.02754882536828518\n",
      "OrderedDict([('weights', tensor([0.5647])), ('bias', tensor([0.3568]))])\n",
      "Loss: 0.027199819684028625\n",
      "OrderedDict([('weights', tensor([0.5665])), ('bias', tensor([0.3563]))])\n",
      "Loss: 0.026862185448408127\n",
      "OrderedDict([('weights', tensor([0.5681])), ('bias', tensor([0.3553]))])\n",
      "Loss: 0.02651461586356163\n",
      "OrderedDict([('weights', tensor([0.5699])), ('bias', tensor([0.3548]))])\n",
      "Loss: 0.026173178106546402\n",
      "OrderedDict([('weights', tensor([0.5715])), ('bias', tensor([0.3538]))])\n",
      "Loss: 0.025829419493675232\n",
      "OrderedDict([('weights', tensor([0.5733])), ('bias', tensor([0.3533]))])\n",
      "Loss: 0.02548416517674923\n",
      "OrderedDict([('weights', tensor([0.5748])), ('bias', tensor([0.3523]))])\n",
      "Loss: 0.025144213810563087\n",
      "OrderedDict([('weights', tensor([0.5766])), ('bias', tensor([0.3518]))])\n",
      "Loss: 0.02479521557688713\n",
      "OrderedDict([('weights', tensor([0.5784])), ('bias', tensor([0.3513]))])\n",
      "Loss: 0.024458957836031914\n",
      "Epoch: 100 | Loss: 0.024458957836031914 | Test loss: 0.05646304413676262\n",
      "OrderedDict([('weights', tensor([0.5800])), ('bias', tensor([0.3503]))])\n",
      "Loss: 0.024110013619065285\n",
      "OrderedDict([('weights', tensor([0.5818])), ('bias', tensor([0.3498]))])\n",
      "Loss: 0.02376994863152504\n",
      "OrderedDict([('weights', tensor([0.5834])), ('bias', tensor([0.3488]))])\n",
      "Loss: 0.02342480979859829\n",
      "OrderedDict([('weights', tensor([0.5852])), ('bias', tensor([0.3483]))])\n",
      "Loss: 0.023080935701727867\n",
      "OrderedDict([('weights', tensor([0.5868])), ('bias', tensor([0.3473]))])\n",
      "Loss: 0.022739607840776443\n",
      "OrderedDict([('weights', tensor([0.5886])), ('bias', tensor([0.3468]))])\n",
      "Loss: 0.022391926497220993\n",
      "OrderedDict([('weights', tensor([0.5902])), ('bias', tensor([0.3458]))])\n",
      "Loss: 0.022054409608244896\n",
      "OrderedDict([('weights', tensor([0.5920])), ('bias', tensor([0.3453]))])\n",
      "Loss: 0.02170540764927864\n",
      "OrderedDict([('weights', tensor([0.5938])), ('bias', tensor([0.3448]))])\n",
      "Loss: 0.021366719156503677\n",
      "OrderedDict([('weights', tensor([0.5954])), ('bias', tensor([0.3438]))])\n",
      "Loss: 0.021020207554101944\n",
      "Epoch: 110 | Loss: 0.021020207554101944 | Test loss: 0.04819049686193466\n",
      "OrderedDict([('weights', tensor([0.5972])), ('bias', tensor([0.3433]))])\n",
      "Loss: 0.020677709951996803\n",
      "OrderedDict([('weights', tensor([0.5988])), ('bias', tensor([0.3423]))])\n",
      "Loss: 0.02033500373363495\n",
      "OrderedDict([('weights', tensor([0.6006])), ('bias', tensor([0.3418]))])\n",
      "Loss: 0.01998869702219963\n",
      "OrderedDict([('weights', tensor([0.6022])), ('bias', tensor([0.3408]))])\n",
      "Loss: 0.019649803638458252\n",
      "OrderedDict([('weights', tensor([0.6040])), ('bias', tensor([0.3403]))])\n",
      "Loss: 0.019300809130072594\n",
      "OrderedDict([('weights', tensor([0.6058])), ('bias', tensor([0.3398]))])\n",
      "Loss: 0.018963487818837166\n",
      "OrderedDict([('weights', tensor([0.6074])), ('bias', tensor([0.3388]))])\n",
      "Loss: 0.01861560344696045\n",
      "OrderedDict([('weights', tensor([0.6092])), ('bias', tensor([0.3383]))])\n",
      "Loss: 0.018274478614330292\n",
      "OrderedDict([('weights', tensor([0.6108])), ('bias', tensor([0.3373]))])\n",
      "Loss: 0.017930403351783752\n",
      "OrderedDict([('weights', tensor([0.6126])), ('bias', tensor([0.3368]))])\n",
      "Loss: 0.01758546568453312\n",
      "Epoch: 120 | Loss: 0.01758546568453312 | Test loss: 0.04060482233762741\n",
      "OrderedDict([('weights', tensor([0.6141])), ('bias', tensor([0.3358]))])\n",
      "Loss: 0.017245199531316757\n",
      "OrderedDict([('weights', tensor([0.6159])), ('bias', tensor([0.3353]))])\n",
      "Loss: 0.016896454617381096\n",
      "OrderedDict([('weights', tensor([0.6175])), ('bias', tensor([0.3343]))])\n",
      "Loss: 0.01656000316143036\n",
      "OrderedDict([('weights', tensor([0.6193])), ('bias', tensor([0.3338]))])\n",
      "Loss: 0.016210997477173805\n",
      "OrderedDict([('weights', tensor([0.6211])), ('bias', tensor([0.3333]))])\n",
      "Loss: 0.01587124727666378\n",
      "OrderedDict([('weights', tensor([0.6227])), ('bias', tensor([0.3323]))])\n",
      "Loss: 0.015525798313319683\n",
      "OrderedDict([('weights', tensor([0.6245])), ('bias', tensor([0.3318]))])\n",
      "Loss: 0.015182236209511757\n",
      "OrderedDict([('weights', tensor([0.6261])), ('bias', tensor([0.3308]))])\n",
      "Loss: 0.014840595424175262\n",
      "OrderedDict([('weights', tensor([0.6279])), ('bias', tensor([0.3303]))])\n",
      "Loss: 0.01449323259294033\n",
      "OrderedDict([('weights', tensor([0.6295])), ('bias', tensor([0.3293]))])\n",
      "Loss: 0.014155393466353416\n",
      "Epoch: 130 | Loss: 0.014155393466353416 | Test loss: 0.03233227878808975\n",
      "OrderedDict([('weights', tensor([0.6313])), ('bias', tensor([0.3288]))])\n",
      "Loss: 0.013806397095322609\n",
      "OrderedDict([('weights', tensor([0.6331])), ('bias', tensor([0.3283]))])\n",
      "Loss: 0.013468016870319843\n",
      "OrderedDict([('weights', tensor([0.6347])), ('bias', tensor([0.3273]))])\n",
      "Loss: 0.013121193274855614\n",
      "OrderedDict([('weights', tensor([0.6365])), ('bias', tensor([0.3268]))])\n",
      "Loss: 0.01277900766581297\n",
      "OrderedDict([('weights', tensor([0.6381])), ('bias', tensor([0.3258]))])\n",
      "Loss: 0.012435992248356342\n",
      "OrderedDict([('weights', tensor([0.6399])), ('bias', tensor([0.3253]))])\n",
      "Loss: 0.01208999752998352\n",
      "OrderedDict([('weights', tensor([0.6415])), ('bias', tensor([0.3243]))])\n",
      "Loss: 0.011750795878469944\n",
      "OrderedDict([('weights', tensor([0.6433])), ('bias', tensor([0.3238]))])\n",
      "Loss: 0.011401787400245667\n",
      "OrderedDict([('weights', tensor([0.6451])), ('bias', tensor([0.3233]))])\n",
      "Loss: 0.011064787395298481\n",
      "OrderedDict([('weights', tensor([0.6467])), ('bias', tensor([0.3223]))])\n",
      "Loss: 0.010716589167714119\n",
      "Epoch: 140 | Loss: 0.010716589167714119 | Test loss: 0.024059748277068138\n",
      "OrderedDict([('weights', tensor([0.6485])), ('bias', tensor([0.3218]))])\n",
      "Loss: 0.010375778190791607\n",
      "OrderedDict([('weights', tensor([0.6501])), ('bias', tensor([0.3208]))])\n",
      "Loss: 0.010031387209892273\n",
      "OrderedDict([('weights', tensor([0.6519])), ('bias', tensor([0.3203]))])\n",
      "Loss: 0.009686763398349285\n",
      "OrderedDict([('weights', tensor([0.6534])), ('bias', tensor([0.3193]))])\n",
      "Loss: 0.009346187114715576\n",
      "OrderedDict([('weights', tensor([0.6552])), ('bias', tensor([0.3188]))])\n",
      "Loss: 0.008997755125164986\n",
      "OrderedDict([('weights', tensor([0.6568])), ('bias', tensor([0.3178]))])\n",
      "Loss: 0.008660981431603432\n",
      "OrderedDict([('weights', tensor([0.6586])), ('bias', tensor([0.3173]))])\n",
      "Loss: 0.008311985060572624\n",
      "OrderedDict([('weights', tensor([0.6604])), ('bias', tensor([0.3168]))])\n",
      "Loss: 0.007972544990479946\n",
      "OrderedDict([('weights', tensor([0.6620])), ('bias', tensor([0.3158]))])\n",
      "Loss: 0.007626785431057215\n",
      "OrderedDict([('weights', tensor([0.6638])), ('bias', tensor([0.3153]))])\n",
      "Loss: 0.0072835334576666355\n",
      "Epoch: 150 | Loss: 0.0072835334576666355 | Test loss: 0.016474086791276932\n",
      "OrderedDict([('weights', tensor([0.6654])), ('bias', tensor([0.3143]))])\n",
      "Loss: 0.006941580679267645\n",
      "OrderedDict([('weights', tensor([0.6672])), ('bias', tensor([0.3138]))])\n",
      "Loss: 0.006594526115804911\n",
      "OrderedDict([('weights', tensor([0.6688])), ('bias', tensor([0.3128]))])\n",
      "Loss: 0.006256377790123224\n",
      "OrderedDict([('weights', tensor([0.6706])), ('bias', tensor([0.3123]))])\n",
      "Loss: 0.005907376762479544\n",
      "OrderedDict([('weights', tensor([0.6724])), ('bias', tensor([0.3118]))])\n",
      "Loss: 0.005569315515458584\n",
      "OrderedDict([('weights', tensor([0.6740])), ('bias', tensor([0.3108]))])\n",
      "Loss: 0.005222178064286709\n",
      "OrderedDict([('weights', tensor([0.6758])), ('bias', tensor([0.3103]))])\n",
      "Loss: 0.004880306776612997\n",
      "OrderedDict([('weights', tensor([0.6774])), ('bias', tensor([0.3093]))])\n",
      "Loss: 0.004536976106464863\n",
      "OrderedDict([('weights', tensor([0.6792])), ('bias', tensor([0.3088]))])\n",
      "Loss: 0.00419129803776741\n",
      "OrderedDict([('weights', tensor([0.6808])), ('bias', tensor([0.3078]))])\n",
      "Loss: 0.0038517764769494534\n",
      "Epoch: 160 | Loss: 0.0038517764769494534 | Test loss: 0.008201557211577892\n",
      "OrderedDict([('weights', tensor([0.6826])), ('bias', tensor([0.3073]))])\n",
      "Loss: 0.0035027749836444855\n",
      "OrderedDict([('weights', tensor([0.6844])), ('bias', tensor([0.3068]))])\n",
      "Loss: 0.0031660839449614286\n",
      "OrderedDict([('weights', tensor([0.6860])), ('bias', tensor([0.3058]))])\n",
      "Loss: 0.002817571861669421\n",
      "OrderedDict([('weights', tensor([0.6878])), ('bias', tensor([0.3053]))])\n",
      "Loss: 0.0024770735763013363\n",
      "OrderedDict([('weights', tensor([0.6894])), ('bias', tensor([0.3043]))])\n",
      "Loss: 0.0021323717664927244\n",
      "OrderedDict([('weights', tensor([0.6912])), ('bias', tensor([0.3038]))])\n",
      "Loss: 0.0017880648374557495\n",
      "OrderedDict([('weights', tensor([0.6927])), ('bias', tensor([0.3028]))])\n",
      "Loss: 0.0014518328243866563\n",
      "OrderedDict([('weights', tensor([0.6947])), ('bias', tensor([0.3028]))])\n",
      "Loss: 0.0011887758737429976\n",
      "OrderedDict([('weights', tensor([0.6951])), ('bias', tensor([0.2993]))])\n",
      "Loss: 0.0025885067880153656\n",
      "OrderedDict([('weights', tensor([0.6990])), ('bias', tensor([0.3093]))])\n",
      "Loss: 0.008932482451200485\n",
      "Epoch: 170 | Loss: 0.008932482451200485 | Test loss: 0.005023092031478882\n",
      "OrderedDict([('weights', tensor([0.6951])), ('bias', tensor([0.2993]))])\n",
      "Loss: 0.0025885067880153656\n",
      "OrderedDict([('weights', tensor([0.6990])), ('bias', tensor([0.3093]))])\n",
      "Loss: 0.008932482451200485\n",
      "OrderedDict([('weights', tensor([0.6951])), ('bias', tensor([0.2993]))])\n",
      "Loss: 0.0025885067880153656\n",
      "OrderedDict([('weights', tensor([0.6990])), ('bias', tensor([0.3093]))])\n",
      "Loss: 0.008932482451200485\n",
      "OrderedDict([('weights', tensor([0.6951])), ('bias', tensor([0.2993]))])\n",
      "Loss: 0.0025885067880153656\n",
      "OrderedDict([('weights', tensor([0.6990])), ('bias', tensor([0.3093]))])\n",
      "Loss: 0.008932482451200485\n",
      "OrderedDict([('weights', tensor([0.6951])), ('bias', tensor([0.2993]))])\n",
      "Loss: 0.0025885067880153656\n",
      "OrderedDict([('weights', tensor([0.6990])), ('bias', tensor([0.3093]))])\n",
      "Loss: 0.008932482451200485\n",
      "OrderedDict([('weights', tensor([0.6951])), ('bias', tensor([0.2993]))])\n",
      "Loss: 0.0025885067880153656\n",
      "OrderedDict([('weights', tensor([0.6990])), ('bias', tensor([0.3093]))])\n",
      "Loss: 0.008932482451200485\n",
      "Epoch: 180 | Loss: 0.008932482451200485 | Test loss: 0.005023092031478882\n",
      "OrderedDict([('weights', tensor([0.6951])), ('bias', tensor([0.2993]))])\n",
      "Loss: 0.0025885067880153656\n",
      "OrderedDict([('weights', tensor([0.6990])), ('bias', tensor([0.3093]))])\n",
      "Loss: 0.008932482451200485\n",
      "OrderedDict([('weights', tensor([0.6951])), ('bias', tensor([0.2993]))])\n",
      "Loss: 0.0025885067880153656\n",
      "OrderedDict([('weights', tensor([0.6990])), ('bias', tensor([0.3093]))])\n",
      "Loss: 0.008932482451200485\n",
      "OrderedDict([('weights', tensor([0.6951])), ('bias', tensor([0.2993]))])\n",
      "Loss: 0.0025885067880153656\n",
      "OrderedDict([('weights', tensor([0.6990])), ('bias', tensor([0.3093]))])\n",
      "Loss: 0.008932482451200485\n",
      "OrderedDict([('weights', tensor([0.6951])), ('bias', tensor([0.2993]))])\n",
      "Loss: 0.0025885067880153656\n",
      "OrderedDict([('weights', tensor([0.6990])), ('bias', tensor([0.3093]))])\n",
      "Loss: 0.008932482451200485\n",
      "OrderedDict([('weights', tensor([0.6951])), ('bias', tensor([0.2993]))])\n",
      "Loss: 0.0025885067880153656\n",
      "OrderedDict([('weights', tensor([0.6990])), ('bias', tensor([0.3093]))])\n",
      "Loss: 0.008932482451200485\n",
      "Epoch: 190 | Loss: 0.008932482451200485 | Test loss: 0.005023092031478882\n",
      "OrderedDict([('weights', tensor([0.6951])), ('bias', tensor([0.2993]))])\n",
      "Loss: 0.0025885067880153656\n",
      "OrderedDict([('weights', tensor([0.6990])), ('bias', tensor([0.3093]))])\n",
      "Loss: 0.008932482451200485\n",
      "OrderedDict([('weights', tensor([0.6951])), ('bias', tensor([0.2993]))])\n",
      "Loss: 0.0025885067880153656\n",
      "OrderedDict([('weights', tensor([0.6990])), ('bias', tensor([0.3093]))])\n",
      "Loss: 0.008932482451200485\n",
      "OrderedDict([('weights', tensor([0.6951])), ('bias', tensor([0.2993]))])\n",
      "Loss: 0.0025885067880153656\n",
      "OrderedDict([('weights', tensor([0.6990])), ('bias', tensor([0.3093]))])\n",
      "Loss: 0.008932482451200485\n",
      "OrderedDict([('weights', tensor([0.6951])), ('bias', tensor([0.2993]))])\n",
      "Loss: 0.0025885067880153656\n",
      "OrderedDict([('weights', tensor([0.6990])), ('bias', tensor([0.3093]))])\n",
      "Loss: 0.008932482451200485\n",
      "OrderedDict([('weights', tensor([0.6951])), ('bias', tensor([0.2993]))])\n",
      "Loss: 0.0025885067880153656\n",
      "OrderedDict([('weights', tensor([0.6990])), ('bias', tensor([0.3093]))])\n"
     ]
    }
   ],
   "source": [
    "# An epoch is one loop through the data....(this is a hyperparameter because we've set in ourselves )\n",
    "epochs = 200\n",
    "\n",
    "# Track different values\n",
    "epoch_count = []\n",
    "loss_values = []\n",
    "test_loss_values = []\n",
    "\n",
    "### Training\n",
    "# 0. Loop through the data\n",
    "for epoch in range(epochs):\n",
    "  # Set the model to training mode\n",
    "  model_0.train() # train mode in PyTorch sets all parameters that require gradients to require gradients\n",
    "\n",
    "  #1. Forward pass\n",
    "  y_pred = model_0(X_train)\n",
    "\n",
    "  #2. Calculate the loss\n",
    "  loss = loss_fn(y_pred, y_train)\n",
    "  print(f\"Loss: {loss}\")\n",
    "\n",
    "  #3. Optimizer zero grad\n",
    "  optimizer.zero_grad()\n",
    "\n",
    "  #4.Perform backpropagation on the loss with respect to the parameters of the  model\n",
    "  loss.backward()\n",
    "\n",
    "  #5. Step the optimizer (perform gradient descent)\n",
    "  optimizer.step()  #by default how the optimizer changes will acculumate through the loop so... we have to zero them above in step 3 for the next iteration of the\n",
    "\n",
    "  ### Testing\n",
    "  model_0.eval() # turns off different settings in the model not needed for evaluation/testing (dropout/batch norm layers)\n",
    "  with torch.inference_mode(): # turns off gradient tracking & a couple more things behind the scene\n",
    "  # with torch.no_grad(): # you may also see torch.no_grad() in older PyTorch code\n",
    "    #1. Do the forward pass\n",
    "    test_pred = model_0(X_test)\n",
    "\n",
    "    #2. Calculate the loss\n",
    "    test_loss = loss_fn(test_pred, y_test)\n",
    "\n",
    "  # Print out what's happenin'\n",
    "  if epoch % 10 == 0:\n",
    "    epoch_count.append(epoch)\n",
    "    loss_values.append(loss)\n",
    "    test_loss_values.append(test_loss)\n",
    "    print(f\"Epoch: {epoch} | Loss: {loss} | Test loss: {test_loss}\")\n",
    "\n",
    "  #print out model state_dict()\n",
    "  print(model_0.state_dict())"
   ]
  },
  {
   "cell_type": "code",
   "execution_count": 21,
   "metadata": {
    "colab": {
     "base_uri": "https://localhost:8080/"
    },
    "id": "MrWigzlOsyB8",
    "outputId": "e6d841fc-e0e2-4a19-e614-6bc86b1ea3d1"
   },
   "outputs": [
    {
     "data": {
      "text/plain": [
       "(array([0.31288138, 0.19767132, 0.08908726, 0.05314853, 0.04543797,\n",
       "        0.04167863, 0.03818933, 0.0347609 , 0.03132383, 0.0278874 ,\n",
       "        0.02445896, 0.02102021, 0.01758547, 0.01415539, 0.01071659,\n",
       "        0.00728353, 0.00385178, 0.00893248, 0.00893248, 0.00893248],\n",
       "       dtype=float32),\n",
       " [tensor(0.4811),\n",
       "  tensor(0.3464),\n",
       "  tensor(0.2173),\n",
       "  tensor(0.1446),\n",
       "  tensor(0.1136),\n",
       "  tensor(0.0992),\n",
       "  tensor(0.0889),\n",
       "  tensor(0.0806),\n",
       "  tensor(0.0723),\n",
       "  tensor(0.0647),\n",
       "  tensor(0.0565),\n",
       "  tensor(0.0482),\n",
       "  tensor(0.0406),\n",
       "  tensor(0.0323),\n",
       "  tensor(0.0241),\n",
       "  tensor(0.0165),\n",
       "  tensor(0.0082),\n",
       "  tensor(0.0050),\n",
       "  tensor(0.0050),\n",
       "  tensor(0.0050)])"
      ]
     },
     "execution_count": 21,
     "metadata": {},
     "output_type": "execute_result"
    }
   ],
   "source": [
    "import numpy as np\n",
    "np.array(torch.tensor(loss_values).numpy()), test_loss_values"
   ]
  },
  {
   "cell_type": "code",
   "execution_count": 22,
   "metadata": {
    "colab": {
     "base_uri": "https://localhost:8080/",
     "height": 472
    },
    "id": "675LcvXRqLvd",
    "outputId": "9788d13c-cd26-496e-a0b4-ded688f7c936"
   },
   "outputs": [
    {
     "data": {
      "image/png": "[encoded data removed]",
      "text/plain": [
       "<Figure size 432x288 with 1 Axes>"
      ]
     },
     "metadata": {
      "needs_background": "light"
     },
     "output_type": "display_data"
    }
   ],
   "source": [
    "# Plot the loss curves\n",
    "import numpy as np\n",
    "plt.plot(epoch_count, np.array(torch.tensor(loss_values).numpy()), label=\"Train loss\")\n",
    "plt.plot(epoch_count, test_loss_values, label=\"Test loss\")\n",
    "plt.title(\"Training and test loss curves\")\n",
    "plt.ylabel(\"Loss\")\n",
    "plt.xlabel(\"Epochs\")\n",
    "plt.legend();"
   ]
  },
  {
   "cell_type": "code",
   "execution_count": 23,
   "metadata": {
    "colab": {
     "base_uri": "https://localhost:8080/"
    },
    "id": "i1Md28bugEyO",
    "outputId": "556f87b0-f817-43e7-d3c8-4d8e8ed73754"
   },
   "outputs": [
    {
     "data": {
      "text/plain": [
       "OrderedDict([('weights', tensor([0.6990])), ('bias', tensor([0.3093]))])"
      ]
     },
     "execution_count": 23,
     "metadata": {},
     "output_type": "execute_result"
    }
   ],
   "source": [
    "\n",
    "model_0.state_dict()"
   ]
  },
  {
   "cell_type": "code",
   "execution_count": 24,
   "metadata": {
    "colab": {
     "base_uri": "https://localhost:8080/",
     "height": 559
    },
    "id": "8IC7AJMbgU3h",
    "outputId": "426d2d79-0275-44b4-cc1b-c8392cd62c9d"
   },
   "outputs": [
    {
     "data": {
      "image/png": "[encoded data removed]",
      "text/plain": [
       "<Figure size 720x504 with 1 Axes>"
      ]
     },
     "metadata": {
      "needs_background": "light"
     },
     "output_type": "display_data"
    }
   ],
   "source": [
    "plot_predictions(predictions=y_preds)"
   ]
  },
  {
   "cell_type": "code",
   "execution_count": 25,
   "metadata": {
    "colab": {
     "base_uri": "https://localhost:8080/",
     "height": 559
    },
    "id": "qrKotX82gWFL",
    "outputId": "65c96a4d-b915-45b7-b1c8-6759175862fd"
   },
   "outputs": [
    {
     "data": {
      "image/png": "[encoded data removed]",
      "text/plain": [
       "<Figure size 720x504 with 1 Axes>"
      ]
     },
     "metadata": {
      "needs_background": "light"
     },
     "output_type": "display_data"
    }
   ],
   "source": [
    "with torch.inference_mode():\n",
    "  y_preds_new = model_0(X_test)\n",
    "\n",
    "plot_predictions(predictions=y_preds_new)"
   ]
  },
  {
   "cell_type": "markdown",
   "metadata": {
    "id": "imYpmBRVWBu5"
   },
   "source": [
    "## Saving a model in PyTorch\n",
    "\n",
    "There are three main methods you should about for saving and loading models in PyTorch.\n",
    "\n",
    "1. torch.save() - allows you save a PyTorch object in PyTorch object in Python's pickle format.\n",
    "2. torch.load() - allows you load a saved PyTorch object\n",
    "3. torch.nn.Module.load_state_dict() - this allows to load a model's saved state dictionary"
   ]
  },
  {
   "cell_type": "code",
   "execution_count": 26,
   "metadata": {
    "colab": {
     "base_uri": "https://localhost:8080/"
    },
    "id": "OlAKdcaqWCJh",
    "outputId": "8bffaf36-cea8-4113-91f1-43beeb878b72"
   },
   "outputs": [
    {
     "name": "stdout",
     "output_type": "stream",
     "text": [
      "Saving model to: Models/01_pytorch_workflow_model.pth\n"
     ]
    }
   ],
   "source": [
    "# Saving our PyTorch model\n",
    "from pathlib import Path\n",
    "\n",
    "# 1. Create models directory\n",
    "MODEL_PATH = Path(\"Models\")\n",
    "MODEL_PATH.mkdir(parents=True, exist_ok=True)\n",
    "\n",
    "# 2. Create model save path\n",
    "MODEL_NAME = \"01_pytorch_workflow_model.pth\"\n",
    "MODEL_SAVE_PATH = MODEL_PATH / MODEL_NAME\n",
    "\n",
    "# 3. Save the model state dict\n",
    "print(f\"Saving model to: {MODEL_SAVE_PATH}\")\n",
    "torch.save(obj=model_0.state_dict(),\n",
    "           f=MODEL_SAVE_PATH)"
   ]
  },
  {
   "cell_type": "code",
   "execution_count": 27,
   "metadata": {
    "colab": {
     "base_uri": "https://localhost:8080/"
    },
    "id": "w0hj-t-1bPfH",
    "outputId": "47a6ad0e-4251-4bb9-ff9f-67c379123073"
   },
   "outputs": [
    {
     "name": "stdout",
     "output_type": "stream",
     "text": [
      "01_pytorch_workflow_model.pth\n"
     ]
    }
   ],
   "source": [
    "!ls -1 Models"
   ]
  },
  {
   "cell_type": "markdown",
   "metadata": {
    "id": "mDdaJdQbcAiN"
   },
   "source": [
    "## Loading a PyTorch model\n",
    "\n",
    "Since we saved our models state_dict() rather the entire model, we'll create a new instance of our model class and load the saved state_dict() into that."
   ]
  },
  {
   "cell_type": "code",
   "execution_count": 28,
   "metadata": {
    "colab": {
     "base_uri": "https://localhost:8080/"
    },
    "id": "cSagonONbn56",
    "outputId": "ab2c075a-5295-450f-c052-b80fcdbf8168"
   },
   "outputs": [
    {
     "data": {
      "text/plain": [
       "OrderedDict([('weights', tensor([0.6990])), ('bias', tensor([0.3093]))])"
      ]
     },
     "execution_count": 28,
     "metadata": {},
     "output_type": "execute_result"
    }
   ],
   "source": [
    "model_0.state_dict()"
   ]
  },
  {
   "cell_type": "code",
   "execution_count": 29,
   "metadata": {
    "colab": {
     "base_uri": "https://localhost:8080/"
    },
    "id": "rE56SInMcK4B",
    "outputId": "0a3c3088-7ba4-458f-d875-f81201c35d84"
   },
   "outputs": [
    {
     "data": {
      "text/plain": [
       "<All keys matched successfully>"
      ]
     },
     "execution_count": 29,
     "metadata": {},
     "output_type": "execute_result"
    }
   ],
   "source": [
    "# To load in a saved state_dict we have to instantiate a new instance of our model class\n",
    "loaded_model_0 = LinearRegressionModel()\n",
    "\n",
    "# Load the saved state_dict of model_0 (this will update the new instance with updated parameters)\n",
    "loaded_model_0.load_state_dict(torch.load(f=MODEL_SAVE_PATH))"
   ]
  },
  {
   "cell_type": "code",
   "execution_count": 30,
   "metadata": {
    "colab": {
     "base_uri": "https://localhost:8080/"
    },
    "id": "7Fl_8CM5c_MK",
    "outputId": "d885f599-b5b9-428e-b5aa-78c474055c31"
   },
   "outputs": [
    {
     "data": {
      "text/plain": [
       "OrderedDict([('weights', tensor([0.6990])), ('bias', tensor([0.3093]))])"
      ]
     },
     "execution_count": 30,
     "metadata": {},
     "output_type": "execute_result"
    }
   ],
   "source": [
    "loaded_model_0.state_dict()"
   ]
  },
  {
   "cell_type": "code",
   "execution_count": 31,
   "metadata": {
    "colab": {
     "base_uri": "https://localhost:8080/"
    },
    "id": "RwFqhFmadFlr",
    "outputId": "6995f21a-3320-4884-f572-e2c0a0b34a9a"
   },
   "outputs": [
    {
     "data": {
      "text/plain": [
       "tensor([[0.8685],\n",
       "        [0.8825],\n",
       "        [0.8965],\n",
       "        [0.9105],\n",
       "        [0.9245],\n",
       "        [0.9384],\n",
       "        [0.9524],\n",
       "        [0.9664],\n",
       "        [0.9804],\n",
       "        [0.9944]])"
      ]
     },
     "execution_count": 31,
     "metadata": {},
     "output_type": "execute_result"
    }
   ],
   "source": [
    "from pickle import load\n",
    "# Make some predictions with our loaded model\n",
    "loaded_model_0.eval()\n",
    "with torch.inference_mode():\n",
    "  loaded_model_preds = loaded_model_0(X_test)\n",
    "\n",
    "loaded_model_preds"
   ]
  },
  {
   "cell_type": "code",
   "execution_count": 32,
   "metadata": {
    "colab": {
     "base_uri": "https://localhost:8080/"
    },
    "id": "8LO0zucveLFX",
    "outputId": "cf1dc66d-0a32-470e-9c38-ff208b92e6ef"
   },
   "outputs": [
    {
     "data": {
      "text/plain": [
       "tensor([[0.8685],\n",
       "        [0.8825],\n",
       "        [0.8965],\n",
       "        [0.9105],\n",
       "        [0.9245],\n",
       "        [0.9384],\n",
       "        [0.9524],\n",
       "        [0.9664],\n",
       "        [0.9804],\n",
       "        [0.9944]])"
      ]
     },
     "execution_count": 32,
     "metadata": {},
     "output_type": "execute_result"
    }
   ],
   "source": [
    "# Make some models preds\n",
    "model_0.eval()\n",
    "with torch.inference_mode():\n",
    "  y_preds = model_0(X_test)\n",
    "\n",
    "y_preds"
   ]
  },
  {
   "cell_type": "code",
   "execution_count": 33,
   "metadata": {
    "colab": {
     "base_uri": "https://localhost:8080/"
    },
    "id": "K7skWC0yeYNY",
    "outputId": "7e8d1194-8e6a-45c2-a9f7-ba69f6d32dfd"
   },
   "outputs": [
    {
     "data": {
      "text/plain": [
       "tensor([[True],\n",
       "        [True],\n",
       "        [True],\n",
       "        [True],\n",
       "        [True],\n",
       "        [True],\n",
       "        [True],\n",
       "        [True],\n",
       "        [True],\n",
       "        [True]])"
      ]
     },
     "execution_count": 33,
     "metadata": {},
     "output_type": "execute_result"
    }
   ],
   "source": [
    "# Compare loaded model preds with original model preds\n",
    "y_preds == loaded_model_preds"
   ]
  },
  {
   "cell_type": "markdown",
   "metadata": {
    "id": "9WCB5qqe1CSu"
   },
   "source": [
    "## 6. Putting it all together\n",
    "Let's go back through the steps above and see it all in one place"
   ]
  },
  {
   "cell_type": "code",
   "execution_count": 34,
   "metadata": {
    "colab": {
     "base_uri": "https://localhost:8080/",
     "height": 35
    },
    "id": "rv8iOHaL1V3q",
    "outputId": "f666b7c6-1396-4d39-ae51-a191aac6dbcc"
   },
   "outputs": [
    {
     "data": {
      "text/plain": [
       "'2.7.1+cu126'"
      ]
     },
     "execution_count": 34,
     "metadata": {},
     "output_type": "execute_result"
    }
   ],
   "source": [
    "# Import PyTorch and matplotlib\n",
    "import torch\n",
    "from torch import nn\n",
    "import matplotlib.pyplot as plt\n",
    "\n",
    "# Check PyTorch version\n",
    "torch.__version__\n"
   ]
  },
  {
   "cell_type": "markdown",
   "metadata": {
    "id": "lF95sB0Y1taF"
   },
   "source": [
    "Create device-agnostic code.\n",
    "\n",
    "This mean if we've got access to a GPU, our code will use it (for potentially faster computing).\n",
    "\n",
    "If no GPU is available, the code will default to using CPU.\n"
   ]
  },
  {
   "cell_type": "code",
   "execution_count": 35,
   "metadata": {
    "colab": {
     "base_uri": "https://localhost:8080/"
    },
    "id": "VNOzchYF2FcC",
    "outputId": "1b0ea16a-df62-4083-910d-a4dff291383e"
   },
   "outputs": [
    {
     "name": "stdout",
     "output_type": "stream",
     "text": [
      "Using devices: cpu\n"
     ]
    }
   ],
   "source": [
    "# Setup device agnostic code\n",
    "device = \"cuda\" if torch.cuda.is_available() else \"cpu\"\n",
    "print(f\"Using devices: {device}\")"
   ]
  },
  {
   "cell_type": "markdown",
   "metadata": {
    "id": "r5j0tAE222An"
   },
   "source": [
    "### 6.1 Data"
   ]
  },
  {
   "cell_type": "code",
   "execution_count": 36,
   "metadata": {
    "colab": {
     "base_uri": "https://localhost:8080/"
    },
    "id": "Ax1NAFQ-29ko",
    "outputId": "002cc6c1-9fa0-4d17-f770-7c5ba5e7b245"
   },
   "outputs": [
    {
     "data": {
      "text/plain": [
       "(tensor([[0.0000],\n",
       "         [0.0200],\n",
       "         [0.0400],\n",
       "         [0.0600],\n",
       "         [0.0800],\n",
       "         [0.1000],\n",
       "         [0.1200],\n",
       "         [0.1400],\n",
       "         [0.1600],\n",
       "         [0.1800]]),\n",
       " tensor([[0.3000],\n",
       "         [0.3140],\n",
       "         [0.3280],\n",
       "         [0.3420],\n",
       "         [0.3560],\n",
       "         [0.3700],\n",
       "         [0.3840],\n",
       "         [0.3980],\n",
       "         [0.4120],\n",
       "         [0.4260]]))"
      ]
     },
     "execution_count": 36,
     "metadata": {},
     "output_type": "execute_result"
    }
   ],
   "source": [
    "# Create some data using the linear regression formula of y = weight * x + bias\n",
    "weight = 0.7\n",
    "bias = 0.3\n",
    "\n",
    "# Create range values\n",
    "start = 0\n",
    "end = 1\n",
    "step = 0.02\n",
    "\n",
    "# Create X and y (features and labels)\n",
    "X = torch.arange(start, end, step).unsqueeze(dim=1) # without unsqueeze, errors will pop out\n",
    "y = weight * X + bias\n",
    "\n",
    "X[:10], y[:10]"
   ]
  },
  {
   "cell_type": "code",
   "execution_count": 37,
   "metadata": {
    "colab": {
     "base_uri": "https://localhost:8080/"
    },
    "id": "Y8RCtdBt3zyh",
    "outputId": "ad0cb654-3c54-41e8-c934-7ca0ffa369bc"
   },
   "outputs": [
    {
     "data": {
      "text/plain": [
       "(40, 40, 10, 10)"
      ]
     },
     "execution_count": 37,
     "metadata": {},
     "output_type": "execute_result"
    }
   ],
   "source": [
    "# Split the data\n",
    "train_split = int(0.8 * len(X))\n",
    "X_train, y_train = X[:train_split], y[:train_split]\n",
    "X_test, y_test = X[train_split:], y[train_split:]\n",
    "\n",
    "len(X_train), len(y_train), len(X_test), len(y_test)"
   ]
  },
  {
   "cell_type": "code",
   "execution_count": 38,
   "metadata": {
    "id": "Xisbpkyo4zWe"
   },
   "outputs": [],
   "source": [
    "def plot_predictions(train_data=X_train,\n",
    "                     train_labels=y_train,\n",
    "                     test_data=X_test,\n",
    "                     test_labels=y_test,\n",
    "                     predictions=None):\n",
    "  \"\"\"\n",
    "  Plots training data, test data and compares predictions.\n",
    "  \"\"\"\n",
    "  plt.figure(figsize=(10, 7))\n",
    "\n",
    "  # Plot training data in blue\n",
    "  plt.scatter(train_data, train_labels, c=\"b\", s=4, label=\"Training data\")\n",
    "\n",
    "  # Plot test data in green\n",
    "  plt.scatter(test_data, test_labels, c=\"g\", s=4, label=\"Testing data\")\n",
    "\n",
    "  # Are there predictions?\n",
    "  if predictions is not None:\n",
    "    # Plot the predictions if they exist\n",
    "    plt.scatter(test_data, predictions, c=\"r\", s=4, label=\"Predictions\" )\n",
    "\n",
    "  # Show the legend\n",
    "  plt.legend(prop={\"size\": 14})\n"
   ]
  },
  {
   "cell_type": "code",
   "execution_count": 39,
   "metadata": {
    "colab": {
     "base_uri": "https://localhost:8080/",
     "height": 559
    },
    "id": "0059KDx64RAW",
    "outputId": "c5ac1187-6a04-4fd9-db02-9b14726f56e3"
   },
   "outputs": [
    {
     "data": {
      "image/png": "[encoded data removed]",
      "text/plain": [
       "<Figure size 720x504 with 1 Axes>"
      ]
     },
     "metadata": {
      "needs_background": "light"
     },
     "output_type": "display_data"
    }
   ],
   "source": [
    "# Plot the data\n",
    "# Note: if you don't have the plot_predictions() function loaded, this will error\n",
    "plot_predictions(X_train, y_train, X_test, y_test)"
   ]
  },
  {
   "cell_type": "markdown",
   "metadata": {
    "id": "Ly_5xbTI5MPT"
   },
   "source": [
    "### 6.2 Building a PyTorch Linear model"
   ]
  },
  {
   "cell_type": "code",
   "execution_count": 40,
   "metadata": {
    "colab": {
     "base_uri": "https://localhost:8080/"
    },
    "id": "pKSbynGW5EEI",
    "outputId": "ec0f8a4d-88ba-443c-bd8e-56034a06f0f8"
   },
   "outputs": [
    {
     "data": {
      "text/plain": [
       "(LinearRegressionModelV2(\n",
       "   (linear_layer): Linear(in_features=1, out_features=1, bias=True)\n",
       " ),\n",
       " OrderedDict([('linear_layer.weight', tensor([[0.7645]])),\n",
       "              ('linear_layer.bias', tensor([0.8300]))]))"
      ]
     },
     "execution_count": 40,
     "metadata": {},
     "output_type": "execute_result"
    }
   ],
   "source": [
    "# Crete a linear model by subclassing nn.Module\n",
    "class LinearRegressionModelV2(nn.Module):\n",
    "  def __init__(self):\n",
    "    super().__init__()\n",
    "    # Use nn.Linear() for creating the model parameters / also called: linear transform, probing layer, fully connected layer,\n",
    "    self.linear_layer = nn.Linear(in_features=1,\n",
    "                                  out_features=1)\n",
    "\n",
    "  def forward(self, x):\n",
    "    return self.linear_layer(x)\n",
    "\n",
    "# Set the manual seed\n",
    "torch.manual_seed(42)\n",
    "\n",
    "# Create an instance of the model\n",
    "model_1 = LinearRegressionModelV2()\n",
    "model_1, model_1.state_dict()"
   ]
  },
  {
   "cell_type": "code",
   "execution_count": 41,
   "metadata": {
    "colab": {
     "base_uri": "https://localhost:8080/"
    },
    "id": "3MdNYbMB5Lom",
    "outputId": "366c69d6-70fa-40c8-f447-078fd09c9b1c"
   },
   "outputs": [
    {
     "data": {
      "text/plain": [
       "(tensor([[0.0000],\n",
       "         [0.0200],\n",
       "         [0.0400],\n",
       "         [0.0600],\n",
       "         [0.0800]]),\n",
       " tensor([[0.3000],\n",
       "         [0.3140],\n",
       "         [0.3280],\n",
       "         [0.3420],\n",
       "         [0.3560]]))"
      ]
     },
     "execution_count": 41,
     "metadata": {},
     "output_type": "execute_result"
    }
   ],
   "source": [
    "X_train[:5], y_train[:5]"
   ]
  },
  {
   "cell_type": "code",
   "execution_count": 42,
   "metadata": {
    "colab": {
     "base_uri": "https://localhost:8080/"
    },
    "id": "4sTSVW6J8TLt",
    "outputId": "09949bb3-5d05-470a-9041-31d860d844b1"
   },
   "outputs": [
    {
     "data": {
      "text/plain": [
       "device(type='cpu')"
      ]
     },
     "execution_count": 42,
     "metadata": {},
     "output_type": "execute_result"
    }
   ],
   "source": [
    "# Check the model current device\n",
    "next(model_1.parameters()).device"
   ]
  },
  {
   "cell_type": "code",
   "execution_count": 43,
   "metadata": {
    "colab": {
     "base_uri": "https://localhost:8080/"
    },
    "id": "MQtP0i6S8L7I",
    "outputId": "097cb09b-1abe-45c7-cfb2-f09b79abe0db"
   },
   "outputs": [
    {
     "data": {
      "text/plain": [
       "device(type='cpu')"
      ]
     },
     "execution_count": 43,
     "metadata": {},
     "output_type": "execute_result"
    }
   ],
   "source": [
    "# Set the model to use the target device\n",
    "model_1.to(device)\n",
    "next(model_1.parameters()).device"
   ]
  },
  {
   "cell_type": "markdown",
   "metadata": {
    "id": "r--DJTFm86Bd"
   },
   "source": [
    "### 6.3 Training\n",
    "For training we need:\n",
    "* Loss function\n",
    "* Optimizer\n",
    "* Training loop\n",
    "* Testing loop\n"
   ]
  },
  {
   "cell_type": "code",
   "execution_count": 44,
   "metadata": {
    "id": "yR1rkvoA8zAP"
   },
   "outputs": [],
   "source": [
    "# Setup the loss function\n",
    "loss_fn = nn.L1Loss() # same as MAE\n",
    "\n",
    "# Setup our optimizer\n",
    "optimizer = torch.optim.SGD(params=model_1.parameters(),\n",
    "                            lr=0.01)"
   ]
  },
  {
   "cell_type": "code",
   "execution_count": 45,
   "metadata": {
    "colab": {
     "base_uri": "https://localhost:8080/"
    },
    "id": "QKGi_1uK9jGm",
    "outputId": "7d067625-a8ca-4635-b180-a78aabe22143"
   },
   "outputs": [
    {
     "name": "stdout",
     "output_type": "stream",
     "text": [
      "Epoch: 0 | Loss: 0.5551779866218567 | Test loss: 0.5739762187004089\n",
      "Epoch: 10 | Loss: 0.4399680495262146 | Test loss: 0.4392663538455963\n",
      "Epoch: 20 | Loss: 0.3247582018375397 | Test loss: 0.30455657839775085\n",
      "Epoch: 30 | Loss: 0.20954827964305878 | Test loss: 0.16984674334526062\n",
      "Epoch: 40 | Loss: 0.09433844685554504 | Test loss: 0.03513689711689949\n",
      "Epoch: 50 | Loss: 0.023886386305093765 | Test loss: 0.04784906655550003\n",
      "Epoch: 60 | Loss: 0.0199567973613739 | Test loss: 0.04580312222242355\n",
      "Epoch: 70 | Loss: 0.016517987474799156 | Test loss: 0.0375305712223053\n",
      "Epoch: 80 | Loss: 0.013089170679450035 | Test loss: 0.029944902285933495\n",
      "Epoch: 90 | Loss: 0.009653178043663502 | Test loss: 0.02167237363755703\n",
      "Epoch: 100 | Loss: 0.006215679459273815 | Test loss: 0.014086711220443249\n",
      "Epoch: 110 | Loss: 0.002787243574857712 | Test loss: 0.005814164876937866\n",
      "Epoch: 120 | Loss: 0.0012645035749301314 | Test loss: 0.013801807537674904\n",
      "Epoch: 130 | Loss: 0.0012645035749301314 | Test loss: 0.013801807537674904\n",
      "Epoch: 140 | Loss: 0.0012645035749301314 | Test loss: 0.013801807537674904\n",
      "Epoch: 150 | Loss: 0.0012645035749301314 | Test loss: 0.013801807537674904\n",
      "Epoch: 160 | Loss: 0.0012645035749301314 | Test loss: 0.013801807537674904\n",
      "Epoch: 170 | Loss: 0.0012645035749301314 | Test loss: 0.013801807537674904\n",
      "Epoch: 180 | Loss: 0.0012645035749301314 | Test loss: 0.013801807537674904\n",
      "Epoch: 190 | Loss: 0.0012645035749301314 | Test loss: 0.013801807537674904\n"
     ]
    }
   ],
   "source": [
    "# Let'd write a training loop\n",
    "torch.manual_seed(42)\n",
    "\n",
    "epochs = 200\n",
    "\n",
    "# Put data on the target device (device agnostic code for data)\n",
    "X_train = X_train.to(device)\n",
    "y_train = y_train.to(device)\n",
    "X_test = X_test.to(device)\n",
    "y_test = y_test.to(device)\n",
    "\n",
    "for epoch in range(epochs):\n",
    "  model_1.train()\n",
    "\n",
    "  # 1. Forward pass\n",
    "  y_pred = model_1(X_train)\n",
    "\n",
    "  # 2. Calculate the loss\n",
    "  loss = loss_fn(y_pred, y_train)\n",
    "\n",
    "  # 3. Zero the optimizer gradients\n",
    "  optimizer.zero_grad()\n",
    "\n",
    "  # 4. Perform backpropagation\n",
    "  loss.backward()\n",
    "\n",
    "  # 5. Step the optimizer\n",
    "  optimizer.step()\n",
    "\n",
    "  ### Testing\n",
    "  model_1.eval()\n",
    "  with torch.inference_mode():\n",
    "    test_pred = model_1(X_test)\n",
    "    test_loss = loss_fn(test_pred, y_test)\n",
    "\n",
    "  # Print out what's happening\n",
    "\n",
    "  if epoch % 10 == 0:\n",
    "    print(f\"Epoch: {epoch} | Loss: {loss} | Test loss: {test_loss}\")"
   ]
  },
  {
   "cell_type": "code",
   "execution_count": 46,
   "metadata": {
    "colab": {
     "base_uri": "https://localhost:8080/"
    },
    "id": "6L2BydP_Ag2J",
    "outputId": "1c2d46aa-c09d-48cd-e2de-6d08401bbd5c"
   },
   "outputs": [
    {
     "data": {
      "text/plain": [
       "OrderedDict([('linear_layer.weight', tensor([[0.6968]])),\n",
       "             ('linear_layer.bias', tensor([0.3025]))])"
      ]
     },
     "execution_count": 46,
     "metadata": {},
     "output_type": "execute_result"
    }
   ],
   "source": [
    "model_1.state_dict()"
   ]
  },
  {
   "cell_type": "code",
   "execution_count": 47,
   "metadata": {
    "colab": {
     "base_uri": "https://localhost:8080/"
    },
    "id": "JluTksJgAp1h",
    "outputId": "bb24fd0a-618b-4c39-ea8a-295335c7811a"
   },
   "outputs": [
    {
     "data": {
      "text/plain": [
       "(0.7, 0.3)"
      ]
     },
     "execution_count": 47,
     "metadata": {},
     "output_type": "execute_result"
    }
   ],
   "source": [
    "weight, bias"
   ]
  },
  {
   "cell_type": "markdown",
   "metadata": {
    "id": "eWpY_pnZAt8c"
   },
   "source": [
    "### 6.4 Making and evaluating predictions"
   ]
  },
  {
   "cell_type": "code",
   "execution_count": 48,
   "metadata": {
    "colab": {
     "base_uri": "https://localhost:8080/"
    },
    "id": "CejTAhrnA0VO",
    "outputId": "8e09db0c-caf5-4d37-f386-865c4b7f0bd7"
   },
   "outputs": [
    {
     "data": {
      "text/plain": [
       "tensor([[0.8600],\n",
       "        [0.8739],\n",
       "        [0.8878],\n",
       "        [0.9018],\n",
       "        [0.9157],\n",
       "        [0.9296],\n",
       "        [0.9436],\n",
       "        [0.9575],\n",
       "        [0.9714],\n",
       "        [0.9854]])"
      ]
     },
     "execution_count": 48,
     "metadata": {},
     "output_type": "execute_result"
    }
   ],
   "source": [
    "# Turn model into evaluation mode\n",
    "model_1.eval()\n",
    "\n",
    "# Make predictions on the test data\n",
    "with torch.inference_mode():\n",
    "  y_preds = model_1(X_test)\n",
    "y_preds"
   ]
  },
  {
   "cell_type": "code",
   "execution_count": 49,
   "metadata": {
    "colab": {
     "base_uri": "https://localhost:8080/",
     "height": 559
    },
    "id": "KfyZnSU7BGIP",
    "outputId": "483f1db1-9d21-452a-a337-2170291d8c20"
   },
   "outputs": [
    {
     "data": {
      "image/png": "[encoded data removed]",
      "text/plain": [
       "<Figure size 720x504 with 1 Axes>"
      ]
     },
     "metadata": {
      "needs_background": "light"
     },
     "output_type": "display_data"
    }
   ],
   "source": [
    "# Check out our model prediction visually\n",
    "plot_predictions(predictions=y_preds.cpu())"
   ]
  },
  {
   "cell_type": "markdown",
   "metadata": {
    "id": "oBqnI5XfBtjD"
   },
   "source": [
    "### 6.5 Saving & Loading a trained model\n"
   ]
  },
  {
   "cell_type": "code",
   "execution_count": 50,
   "metadata": {
    "colab": {
     "base_uri": "https://localhost:8080/"
    },
    "id": "4oidV7uZBk5c",
    "outputId": "6a5ed003-ad60-4b2c-a4f1-390158bbf38d"
   },
   "outputs": [
    {
     "name": "stdout",
     "output_type": "stream",
     "text": [
      "Saving model to: Models/01_pytorch_workflow_model_2.pth\n"
     ]
    }
   ],
   "source": [
    "from pathlib import Path\n",
    "\n",
    "# 1. Create models directory\n",
    "MODEL_PATH = Path(\"Models\")\n",
    "MODEL_PATH.mkdir(parents=True, exist_ok=True)\n",
    "\n",
    "# 2. Create model save path\n",
    "MODEL_NAME = \"01_pytorch_workflow_model_2.pth\"\n",
    "MODEL_SAVE_PATH = MODEL_PATH / MODEL_NAME\n",
    "\n",
    "# 3. Save the model state dict\n",
    "print(f\"Saving model to: {MODEL_SAVE_PATH}\")\n",
    "torch.save(obj=model_1.state_dict(),\n",
    "           f=MODEL_SAVE_PATH)"
   ]
  },
  {
   "cell_type": "code",
   "execution_count": 51,
   "metadata": {
    "colab": {
     "base_uri": "https://localhost:8080/"
    },
    "id": "MRBIk5DhBsj6",
    "outputId": "f0a2c398-0575-453f-e4c0-478faa5b3917"
   },
   "outputs": [
    {
     "data": {
      "text/plain": [
       "OrderedDict([('linear_layer.weight', tensor([[0.6968]])),\n",
       "             ('linear_layer.bias', tensor([0.3025]))])"
      ]
     },
     "execution_count": 51,
     "metadata": {},
     "output_type": "execute_result"
    }
   ],
   "source": [
    "model_1.state_dict()"
   ]
  },
  {
   "cell_type": "code",
   "execution_count": 52,
   "metadata": {
    "colab": {
     "base_uri": "https://localhost:8080/"
    },
    "id": "yqAeu7usCu3L",
    "outputId": "fe42c404-6732-4d85-e614-cf64dc7a981d"
   },
   "outputs": [
    {
     "data": {
      "text/plain": [
       "LinearRegressionModelV2(\n",
       "  (linear_layer): Linear(in_features=1, out_features=1, bias=True)\n",
       ")"
      ]
     },
     "execution_count": 52,
     "metadata": {},
     "output_type": "execute_result"
    }
   ],
   "source": [
    "# Load a PyTorch\n",
    "\n",
    "\n",
    "# Create a new instances of linear regression model V2\n",
    "loaded_model_1 = LinearRegressionModelV2()\n",
    "\n",
    "# Load the saved state_dict\n",
    "loaded_model_1.load_state_dict(torch.load(f=MODEL_SAVE_PATH))\n",
    "\n",
    "# Put the loaded model into evaluation mode\n",
    "loaded_model_1.to(device)"
   ]
  },
  {
   "cell_type": "code",
   "execution_count": 53,
   "metadata": {
    "colab": {
     "base_uri": "https://localhost:8080/"
    },
    "id": "qYiDaaAvDhsp",
    "outputId": "086d0bd5-1a90-4213-a72c-e9f91316929c"
   },
   "outputs": [
    {
     "data": {
      "text/plain": [
       "device(type='cpu')"
      ]
     },
     "execution_count": 53,
     "metadata": {},
     "output_type": "execute_result"
    }
   ],
   "source": [
    "next(loaded_model_1.parameters()).device"
   ]
  },
  {
   "cell_type": "code",
   "execution_count": 54,
   "metadata": {
    "colab": {
     "base_uri": "https://localhost:8080/"
    },
    "id": "H9EGumCeDnR6",
    "outputId": "193de4b4-4c60-43aa-f799-1dee8aa3ed31"
   },
   "outputs": [
    {
     "data": {
      "text/plain": [
       "OrderedDict([('linear_layer.weight', tensor([[0.6968]])),\n",
       "             ('linear_layer.bias', tensor([0.3025]))])"
      ]
     },
     "execution_count": 54,
     "metadata": {},
     "output_type": "execute_result"
    }
   ],
   "source": [
    "loaded_model_1.state_dict()"
   ]
  },
  {
   "cell_type": "code",
   "execution_count": 55,
   "metadata": {
    "colab": {
     "base_uri": "https://localhost:8080/"
    },
    "id": "yX_Rn5IuDwhl",
    "outputId": "0c9cc96c-b035-4323-a5ca-9d1af4a1200a"
   },
   "outputs": [
    {
     "data": {
      "text/plain": [
       "tensor([[True],\n",
       "        [True],\n",
       "        [True],\n",
       "        [True],\n",
       "        [True],\n",
       "        [True],\n",
       "        [True],\n",
       "        [True],\n",
       "        [True],\n",
       "        [True]])"
      ]
     },
     "execution_count": 55,
     "metadata": {},
     "output_type": "execute_result"
    }
   ],
   "source": [
    "# Evaluate loaded model\n",
    "loaded_model_1.eval()\n",
    "with torch.inference_mode():\n",
    "  loaded_model_1_preds = loaded_model_1(X_test)\n",
    "\n",
    "y_preds == loaded_model_1_preds"
   ]
  },
  {
   "cell_type": "code",
   "execution_count": null,
   "metadata": {},
   "outputs": [],
   "source": []
  }
 ],
 "metadata": {
  "accelerator": "GPU",
  "colab": {
   "gpuType": "T4",
   "provenance": []
  },
  "kernelspec": {
   "display_name": "Python 3 (ipykernel)",
   "language": "python",
   "name": "python3"
  },
  "language_info": {
   "codemirror_mode": {
    "name": "ipython",
    "version": 3
   },
   "file_extension": ".py",
   "mimetype": "text/x-python",
   "name": "python",
   "nbconvert_exporter": "python",
   "pygments_lexer": "ipython3",
   "version": "3.10.12"
  }
 },
 "nbformat": 4,
 "nbformat_minor": 4
}
